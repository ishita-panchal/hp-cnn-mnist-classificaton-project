{
 "cells": [
  {
   "cell_type": "markdown",
   "id": "46904965",
   "metadata": {
    "papermill": {
     "duration": 0.011406,
     "end_time": "2024-03-06T05:32:21.913985",
     "exception": false,
     "start_time": "2024-03-06T05:32:21.902579",
     "status": "completed"
    },
    "tags": []
   },
   "source": [
    "## Importing Libraries"
   ]
  },
  {
   "cell_type": "code",
   "execution_count": 1,
   "id": "ae32bbbb",
   "metadata": {
    "execution": {
     "iopub.execute_input": "2024-03-06T05:32:21.937909Z",
     "iopub.status.busy": "2024-03-06T05:32:21.937136Z",
     "iopub.status.idle": "2024-03-06T05:32:22.860692Z",
     "shell.execute_reply": "2024-03-06T05:32:22.859449Z"
    },
    "papermill": {
     "duration": 0.938995,
     "end_time": "2024-03-06T05:32:22.864107",
     "exception": false,
     "start_time": "2024-03-06T05:32:21.925112",
     "status": "completed"
    },
    "tags": []
   },
   "outputs": [],
   "source": [
    "import pandas as pd\n",
    "import numpy as np"
   ]
  },
  {
   "cell_type": "code",
   "execution_count": 2,
   "id": "a09bcc29",
   "metadata": {
    "execution": {
     "iopub.execute_input": "2024-03-06T05:32:22.887268Z",
     "iopub.status.busy": "2024-03-06T05:32:22.886747Z",
     "iopub.status.idle": "2024-03-06T05:32:39.349028Z",
     "shell.execute_reply": "2024-03-06T05:32:39.347742Z"
    },
    "papermill": {
     "duration": 16.47679,
     "end_time": "2024-03-06T05:32:39.351524",
     "exception": false,
     "start_time": "2024-03-06T05:32:22.874734",
     "status": "completed"
    },
    "tags": []
   },
   "outputs": [
    {
     "name": "stderr",
     "output_type": "stream",
     "text": [
      "2024-03-06 05:32:25.381357: E external/local_xla/xla/stream_executor/cuda/cuda_dnn.cc:9261] Unable to register cuDNN factory: Attempting to register factory for plugin cuDNN when one has already been registered\n",
      "2024-03-06 05:32:25.381513: E external/local_xla/xla/stream_executor/cuda/cuda_fft.cc:607] Unable to register cuFFT factory: Attempting to register factory for plugin cuFFT when one has already been registered\n",
      "2024-03-06 05:32:25.559606: E external/local_xla/xla/stream_executor/cuda/cuda_blas.cc:1515] Unable to register cuBLAS factory: Attempting to register factory for plugin cuBLAS when one has already been registered\n"
     ]
    },
    {
     "name": "stdout",
     "output_type": "stream",
     "text": [
      "Downloading data from https://storage.googleapis.com/tensorflow/tf-keras-datasets/mnist.npz\n",
      "\u001b[1m11490434/11490434\u001b[0m \u001b[32m━━━━━━━━━━━━━━━━━━━━\u001b[0m\u001b[37m\u001b[0m \u001b[1m1s\u001b[0m 0us/step\n"
     ]
    }
   ],
   "source": [
    "from tensorflow.keras.datasets import mnist\n",
    "\n",
    "(x_train, y_train), (x_test, y_test) = mnist.load_data()"
   ]
  },
  {
   "cell_type": "markdown",
   "id": "85907ad9",
   "metadata": {
    "papermill": {
     "duration": 0.012703,
     "end_time": "2024-03-06T05:32:39.377829",
     "exception": false,
     "start_time": "2024-03-06T05:32:39.365126",
     "status": "completed"
    },
    "tags": []
   },
   "source": [
    "## Visualizing The Image Data"
   ]
  },
  {
   "cell_type": "code",
   "execution_count": 3,
   "id": "4cb41b03",
   "metadata": {
    "execution": {
     "iopub.execute_input": "2024-03-06T05:32:39.405656Z",
     "iopub.status.busy": "2024-03-06T05:32:39.404307Z",
     "iopub.status.idle": "2024-03-06T05:32:39.410090Z",
     "shell.execute_reply": "2024-03-06T05:32:39.409313Z"
    },
    "papermill": {
     "duration": 0.021409,
     "end_time": "2024-03-06T05:32:39.412108",
     "exception": false,
     "start_time": "2024-03-06T05:32:39.390699",
     "status": "completed"
    },
    "tags": []
   },
   "outputs": [],
   "source": [
    "import matplotlib.pyplot as plt\n",
    "%matplotlib inline"
   ]
  },
  {
   "cell_type": "code",
   "execution_count": 4,
   "id": "b6683488",
   "metadata": {
    "execution": {
     "iopub.execute_input": "2024-03-06T05:32:39.440574Z",
     "iopub.status.busy": "2024-03-06T05:32:39.439868Z",
     "iopub.status.idle": "2024-03-06T05:32:39.447129Z",
     "shell.execute_reply": "2024-03-06T05:32:39.446040Z"
    },
    "papermill": {
     "duration": 0.0245,
     "end_time": "2024-03-06T05:32:39.449162",
     "exception": false,
     "start_time": "2024-03-06T05:32:39.424662",
     "status": "completed"
    },
    "tags": []
   },
   "outputs": [
    {
     "data": {
      "text/plain": [
       "array([7, 2, 1, ..., 4, 5, 6], dtype=uint8)"
      ]
     },
     "execution_count": 4,
     "metadata": {},
     "output_type": "execute_result"
    }
   ],
   "source": [
    "y_test"
   ]
  },
  {
   "cell_type": "code",
   "execution_count": 5,
   "id": "de01f1d7",
   "metadata": {
    "execution": {
     "iopub.execute_input": "2024-03-06T05:32:39.477485Z",
     "iopub.status.busy": "2024-03-06T05:32:39.476697Z",
     "iopub.status.idle": "2024-03-06T05:32:39.483874Z",
     "shell.execute_reply": "2024-03-06T05:32:39.482795Z"
    },
    "papermill": {
     "duration": 0.024108,
     "end_time": "2024-03-06T05:32:39.486532",
     "exception": false,
     "start_time": "2024-03-06T05:32:39.462424",
     "status": "completed"
    },
    "tags": []
   },
   "outputs": [
    {
     "data": {
      "text/plain": [
       "(60000, 28, 28)"
      ]
     },
     "execution_count": 5,
     "metadata": {},
     "output_type": "execute_result"
    }
   ],
   "source": [
    "x_train.shape"
   ]
  },
  {
   "cell_type": "code",
   "execution_count": 6,
   "id": "ba758d0d",
   "metadata": {
    "execution": {
     "iopub.execute_input": "2024-03-06T05:32:39.515076Z",
     "iopub.status.busy": "2024-03-06T05:32:39.514329Z",
     "iopub.status.idle": "2024-03-06T05:32:39.521189Z",
     "shell.execute_reply": "2024-03-06T05:32:39.520357Z"
    },
    "papermill": {
     "duration": 0.02339,
     "end_time": "2024-03-06T05:32:39.523143",
     "exception": false,
     "start_time": "2024-03-06T05:32:39.499753",
     "status": "completed"
    },
    "tags": []
   },
   "outputs": [
    {
     "data": {
      "text/plain": [
       "(28, 28)"
      ]
     },
     "execution_count": 6,
     "metadata": {},
     "output_type": "execute_result"
    }
   ],
   "source": [
    "x_train[1].shape"
   ]
  },
  {
   "cell_type": "code",
   "execution_count": 7,
   "id": "18ebe048",
   "metadata": {
    "execution": {
     "iopub.execute_input": "2024-03-06T05:32:39.553223Z",
     "iopub.status.busy": "2024-03-06T05:32:39.552612Z",
     "iopub.status.idle": "2024-03-06T05:32:39.557915Z",
     "shell.execute_reply": "2024-03-06T05:32:39.557019Z"
    },
    "papermill": {
     "duration": 0.021768,
     "end_time": "2024-03-06T05:32:39.559924",
     "exception": false,
     "start_time": "2024-03-06T05:32:39.538156",
     "status": "completed"
    },
    "tags": []
   },
   "outputs": [
    {
     "data": {
      "text/plain": [
       "(10000, 28, 28)"
      ]
     },
     "execution_count": 7,
     "metadata": {},
     "output_type": "execute_result"
    }
   ],
   "source": [
    "x_test.shape"
   ]
  },
  {
   "cell_type": "code",
   "execution_count": 8,
   "id": "1c29b951",
   "metadata": {
    "execution": {
     "iopub.execute_input": "2024-03-06T05:32:39.589141Z",
     "iopub.status.busy": "2024-03-06T05:32:39.588732Z",
     "iopub.status.idle": "2024-03-06T05:32:39.594512Z",
     "shell.execute_reply": "2024-03-06T05:32:39.593674Z"
    },
    "papermill": {
     "duration": 0.023383,
     "end_time": "2024-03-06T05:32:39.596569",
     "exception": false,
     "start_time": "2024-03-06T05:32:39.573186",
     "status": "completed"
    },
    "tags": []
   },
   "outputs": [
    {
     "data": {
      "text/plain": [
       "(28, 28)"
      ]
     },
     "execution_count": 8,
     "metadata": {},
     "output_type": "execute_result"
    }
   ],
   "source": [
    "x_test[1].shape"
   ]
  },
  {
   "cell_type": "code",
   "execution_count": 9,
   "id": "8b118dd5",
   "metadata": {
    "execution": {
     "iopub.execute_input": "2024-03-06T05:32:39.626293Z",
     "iopub.status.busy": "2024-03-06T05:32:39.625515Z",
     "iopub.status.idle": "2024-03-06T05:32:39.629755Z",
     "shell.execute_reply": "2024-03-06T05:32:39.628907Z"
    },
    "papermill": {
     "duration": 0.021617,
     "end_time": "2024-03-06T05:32:39.631814",
     "exception": false,
     "start_time": "2024-03-06T05:32:39.610197",
     "status": "completed"
    },
    "tags": []
   },
   "outputs": [],
   "source": [
    "single_image=x_train[3]"
   ]
  },
  {
   "cell_type": "code",
   "execution_count": 10,
   "id": "eefc1e1f",
   "metadata": {
    "execution": {
     "iopub.execute_input": "2024-03-06T05:32:39.661253Z",
     "iopub.status.busy": "2024-03-06T05:32:39.660837Z",
     "iopub.status.idle": "2024-03-06T05:32:39.670074Z",
     "shell.execute_reply": "2024-03-06T05:32:39.668934Z"
    },
    "papermill": {
     "duration": 0.026316,
     "end_time": "2024-03-06T05:32:39.672355",
     "exception": false,
     "start_time": "2024-03-06T05:32:39.646039",
     "status": "completed"
    },
    "scrolled": true,
    "tags": []
   },
   "outputs": [
    {
     "data": {
      "text/plain": [
       "array([[  0,   0,   0,   0,   0,   0,   0,   0,   0,   0,   0,   0,   0,\n",
       "          0,   0,   0,   0,   0,   0,   0,   0,   0,   0,   0,   0,   0,\n",
       "          0,   0],\n",
       "       [  0,   0,   0,   0,   0,   0,   0,   0,   0,   0,   0,   0,   0,\n",
       "          0,   0,   0,   0,   0,   0,   0,   0,   0,   0,   0,   0,   0,\n",
       "          0,   0],\n",
       "       [  0,   0,   0,   0,   0,   0,   0,   0,   0,   0,   0,   0,   0,\n",
       "          0,   0,   0,   0,   0,   0,   0,   0,   0,   0,   0,   0,   0,\n",
       "          0,   0],\n",
       "       [  0,   0,   0,   0,   0,   0,   0,   0,   0,   0,   0,   0,   0,\n",
       "          0,   0,   0,   0,   0,   0,   0,   0,   0,   0,   0,   0,   0,\n",
       "          0,   0],\n",
       "       [  0,   0,   0,   0,   0,   0,   0,   0,   0,   0,   0,   0,   0,\n",
       "          0,   0,   0,   0,   0,   0,   0,   0,   0,   0,   0,   0,   0,\n",
       "          0,   0],\n",
       "       [  0,   0,   0,   0,   0,   0,   0,   0,   0,   0,   0,   0,   0,\n",
       "          0,   0,   0,   0,   0, 124, 253, 255,  63,   0,   0,   0,   0,\n",
       "          0,   0],\n",
       "       [  0,   0,   0,   0,   0,   0,   0,   0,   0,   0,   0,   0,   0,\n",
       "          0,   0,   0,   0,  96, 244, 251, 253,  62,   0,   0,   0,   0,\n",
       "          0,   0],\n",
       "       [  0,   0,   0,   0,   0,   0,   0,   0,   0,   0,   0,   0,   0,\n",
       "          0,   0,   0,   0, 127, 251, 251, 253,  62,   0,   0,   0,   0,\n",
       "          0,   0],\n",
       "       [  0,   0,   0,   0,   0,   0,   0,   0,   0,   0,   0,   0,   0,\n",
       "          0,   0,   0,  68, 236, 251, 211,  31,   8,   0,   0,   0,   0,\n",
       "          0,   0],\n",
       "       [  0,   0,   0,   0,   0,   0,   0,   0,   0,   0,   0,   0,   0,\n",
       "          0,   0,  60, 228, 251, 251,  94,   0,   0,   0,   0,   0,   0,\n",
       "          0,   0],\n",
       "       [  0,   0,   0,   0,   0,   0,   0,   0,   0,   0,   0,   0,   0,\n",
       "          0,   0, 155, 253, 253, 189,   0,   0,   0,   0,   0,   0,   0,\n",
       "          0,   0],\n",
       "       [  0,   0,   0,   0,   0,   0,   0,   0,   0,   0,   0,   0,   0,\n",
       "          0,  20, 253, 251, 235,  66,   0,   0,   0,   0,   0,   0,   0,\n",
       "          0,   0],\n",
       "       [  0,   0,   0,   0,   0,   0,   0,   0,   0,   0,   0,   0,   0,\n",
       "         32, 205, 253, 251, 126,   0,   0,   0,   0,   0,   0,   0,   0,\n",
       "          0,   0],\n",
       "       [  0,   0,   0,   0,   0,   0,   0,   0,   0,   0,   0,   0,   0,\n",
       "        104, 251, 253, 184,  15,   0,   0,   0,   0,   0,   0,   0,   0,\n",
       "          0,   0],\n",
       "       [  0,   0,   0,   0,   0,   0,   0,   0,   0,   0,   0,   0,  80,\n",
       "        240, 251, 193,  23,   0,   0,   0,   0,   0,   0,   0,   0,   0,\n",
       "          0,   0],\n",
       "       [  0,   0,   0,   0,   0,   0,   0,   0,   0,   0,   0,  32, 253,\n",
       "        253, 253, 159,   0,   0,   0,   0,   0,   0,   0,   0,   0,   0,\n",
       "          0,   0],\n",
       "       [  0,   0,   0,   0,   0,   0,   0,   0,   0,   0,   0, 151, 251,\n",
       "        251, 251,  39,   0,   0,   0,   0,   0,   0,   0,   0,   0,   0,\n",
       "          0,   0],\n",
       "       [  0,   0,   0,   0,   0,   0,   0,   0,   0,   0,  48, 221, 251,\n",
       "        251, 172,   0,   0,   0,   0,   0,   0,   0,   0,   0,   0,   0,\n",
       "          0,   0],\n",
       "       [  0,   0,   0,   0,   0,   0,   0,   0,   0,   0, 234, 251, 251,\n",
       "        196,  12,   0,   0,   0,   0,   0,   0,   0,   0,   0,   0,   0,\n",
       "          0,   0],\n",
       "       [  0,   0,   0,   0,   0,   0,   0,   0,   0,   0, 253, 251, 251,\n",
       "         89,   0,   0,   0,   0,   0,   0,   0,   0,   0,   0,   0,   0,\n",
       "          0,   0],\n",
       "       [  0,   0,   0,   0,   0,   0,   0,   0,   0, 159, 255, 253, 253,\n",
       "         31,   0,   0,   0,   0,   0,   0,   0,   0,   0,   0,   0,   0,\n",
       "          0,   0],\n",
       "       [  0,   0,   0,   0,   0,   0,   0,   0,  48, 228, 253, 247, 140,\n",
       "          8,   0,   0,   0,   0,   0,   0,   0,   0,   0,   0,   0,   0,\n",
       "          0,   0],\n",
       "       [  0,   0,   0,   0,   0,   0,   0,   0,  64, 251, 253, 220,   0,\n",
       "          0,   0,   0,   0,   0,   0,   0,   0,   0,   0,   0,   0,   0,\n",
       "          0,   0],\n",
       "       [  0,   0,   0,   0,   0,   0,   0,   0,  64, 251, 253, 220,   0,\n",
       "          0,   0,   0,   0,   0,   0,   0,   0,   0,   0,   0,   0,   0,\n",
       "          0,   0],\n",
       "       [  0,   0,   0,   0,   0,   0,   0,   0,  24, 193, 253, 220,   0,\n",
       "          0,   0,   0,   0,   0,   0,   0,   0,   0,   0,   0,   0,   0,\n",
       "          0,   0],\n",
       "       [  0,   0,   0,   0,   0,   0,   0,   0,   0,   0,   0,   0,   0,\n",
       "          0,   0,   0,   0,   0,   0,   0,   0,   0,   0,   0,   0,   0,\n",
       "          0,   0],\n",
       "       [  0,   0,   0,   0,   0,   0,   0,   0,   0,   0,   0,   0,   0,\n",
       "          0,   0,   0,   0,   0,   0,   0,   0,   0,   0,   0,   0,   0,\n",
       "          0,   0],\n",
       "       [  0,   0,   0,   0,   0,   0,   0,   0,   0,   0,   0,   0,   0,\n",
       "          0,   0,   0,   0,   0,   0,   0,   0,   0,   0,   0,   0,   0,\n",
       "          0,   0]], dtype=uint8)"
      ]
     },
     "execution_count": 10,
     "metadata": {},
     "output_type": "execute_result"
    }
   ],
   "source": [
    "single_image"
   ]
  },
  {
   "cell_type": "code",
   "execution_count": 11,
   "id": "d1467401",
   "metadata": {
    "execution": {
     "iopub.execute_input": "2024-03-06T05:32:39.701561Z",
     "iopub.status.busy": "2024-03-06T05:32:39.700777Z",
     "iopub.status.idle": "2024-03-06T05:32:39.708061Z",
     "shell.execute_reply": "2024-03-06T05:32:39.706907Z"
    },
    "papermill": {
     "duration": 0.02453,
     "end_time": "2024-03-06T05:32:39.710367",
     "exception": false,
     "start_time": "2024-03-06T05:32:39.685837",
     "status": "completed"
    },
    "tags": []
   },
   "outputs": [
    {
     "data": {
      "text/plain": [
       "(28, 28)"
      ]
     },
     "execution_count": 11,
     "metadata": {},
     "output_type": "execute_result"
    }
   ],
   "source": [
    "single_image.shape"
   ]
  },
  {
   "cell_type": "code",
   "execution_count": 12,
   "id": "eec15da7",
   "metadata": {
    "execution": {
     "iopub.execute_input": "2024-03-06T05:32:39.740162Z",
     "iopub.status.busy": "2024-03-06T05:32:39.739413Z",
     "iopub.status.idle": "2024-03-06T05:32:40.026613Z",
     "shell.execute_reply": "2024-03-06T05:32:40.025385Z"
    },
    "papermill": {
     "duration": 0.304738,
     "end_time": "2024-03-06T05:32:40.029194",
     "exception": false,
     "start_time": "2024-03-06T05:32:39.724456",
     "status": "completed"
    },
    "tags": []
   },
   "outputs": [
    {
     "data": {
      "text/plain": [
       "<matplotlib.image.AxesImage at 0x7de7a3cee0e0>"
      ]
     },
     "execution_count": 12,
     "metadata": {},
     "output_type": "execute_result"
    },
    {
     "data": {
      "image/png": "[encoded data removed]",
      "text/plain": [
       "<Figure size 640x480 with 1 Axes>"
      ]
     },
     "metadata": {},
     "output_type": "display_data"
    }
   ],
   "source": [
    "plt.imshow(x_train[5])"
   ]
  },
  {
   "cell_type": "markdown",
   "id": "725121a6",
   "metadata": {
    "papermill": {
     "duration": 0.014143,
     "end_time": "2024-03-06T05:32:40.057520",
     "exception": false,
     "start_time": "2024-03-06T05:32:40.043377",
     "status": "completed"
    },
    "tags": []
   },
   "source": [
    "## Pre-Processing Data"
   ]
  },
  {
   "cell_type": "code",
   "execution_count": 13,
   "id": "da98121d",
   "metadata": {
    "execution": {
     "iopub.execute_input": "2024-03-06T05:32:40.088491Z",
     "iopub.status.busy": "2024-03-06T05:32:40.087251Z",
     "iopub.status.idle": "2024-03-06T05:32:40.095727Z",
     "shell.execute_reply": "2024-03-06T05:32:40.094660Z"
    },
    "papermill": {
     "duration": 0.026218,
     "end_time": "2024-03-06T05:32:40.098174",
     "exception": false,
     "start_time": "2024-03-06T05:32:40.071956",
     "status": "completed"
    },
    "tags": []
   },
   "outputs": [],
   "source": [
    "from tensorflow.keras.utils import to_categorical"
   ]
  },
  {
   "cell_type": "code",
   "execution_count": 14,
   "id": "5a89cc14",
   "metadata": {
    "execution": {
     "iopub.execute_input": "2024-03-06T05:32:40.128639Z",
     "iopub.status.busy": "2024-03-06T05:32:40.128263Z",
     "iopub.status.idle": "2024-03-06T05:32:40.134633Z",
     "shell.execute_reply": "2024-03-06T05:32:40.133889Z"
    },
    "papermill": {
     "duration": 0.024,
     "end_time": "2024-03-06T05:32:40.136630",
     "exception": false,
     "start_time": "2024-03-06T05:32:40.112630",
     "status": "completed"
    },
    "tags": []
   },
   "outputs": [
    {
     "data": {
      "text/plain": [
       "(60000,)"
      ]
     },
     "execution_count": 14,
     "metadata": {},
     "output_type": "execute_result"
    }
   ],
   "source": [
    "y_train.shape"
   ]
  },
  {
   "cell_type": "code",
   "execution_count": 15,
   "id": "a527f4ab",
   "metadata": {
    "execution": {
     "iopub.execute_input": "2024-03-06T05:32:40.168236Z",
     "iopub.status.busy": "2024-03-06T05:32:40.167753Z",
     "iopub.status.idle": "2024-03-06T05:32:40.175184Z",
     "shell.execute_reply": "2024-03-06T05:32:40.173979Z"
    },
    "papermill": {
     "duration": 0.026215,
     "end_time": "2024-03-06T05:32:40.177517",
     "exception": false,
     "start_time": "2024-03-06T05:32:40.151302",
     "status": "completed"
    },
    "tags": []
   },
   "outputs": [
    {
     "data": {
      "text/plain": [
       "array([5, 0, 4, 1, 9, 2, 1, 3, 1, 4, 3, 5, 3, 6, 1, 7, 2, 8, 6, 9, 4, 0,\n",
       "       9, 1, 1, 2, 4, 3, 2, 7, 3, 8, 6, 9, 0, 5, 6, 0, 7, 6, 1, 8, 7, 9,\n",
       "       3, 9, 8, 5, 9, 3, 3, 0, 7, 4, 9, 8, 0, 9, 4, 1, 4, 4, 6, 0, 4, 5,\n",
       "       6, 1, 0, 0, 1, 7, 1, 6, 3, 0, 2, 1, 1, 7, 9, 0, 2, 6, 7, 8, 3, 9,\n",
       "       0, 4, 6, 7, 4, 6, 8, 0, 7, 8, 3, 1], dtype=uint8)"
      ]
     },
     "execution_count": 15,
     "metadata": {},
     "output_type": "execute_result"
    }
   ],
   "source": [
    "y_train[:100]"
   ]
  },
  {
   "cell_type": "code",
   "execution_count": 16,
   "id": "b18e9108",
   "metadata": {
    "execution": {
     "iopub.execute_input": "2024-03-06T05:32:40.209493Z",
     "iopub.status.busy": "2024-03-06T05:32:40.208796Z",
     "iopub.status.idle": "2024-03-06T05:32:40.221345Z",
     "shell.execute_reply": "2024-03-06T05:32:40.220523Z"
    },
    "papermill": {
     "duration": 0.030896,
     "end_time": "2024-03-06T05:32:40.223574",
     "exception": false,
     "start_time": "2024-03-06T05:32:40.192678",
     "status": "completed"
    },
    "scrolled": true,
    "tags": []
   },
   "outputs": [
    {
     "data": {
      "text/plain": [
       "array([[0., 0., 0., 0., 0., 1., 0., 0., 0., 0.],\n",
       "       [1., 0., 0., 0., 0., 0., 0., 0., 0., 0.],\n",
       "       [0., 0., 0., 0., 1., 0., 0., 0., 0., 0.],\n",
       "       [0., 1., 0., 0., 0., 0., 0., 0., 0., 0.],\n",
       "       [0., 0., 0., 0., 0., 0., 0., 0., 0., 1.],\n",
       "       [0., 0., 1., 0., 0., 0., 0., 0., 0., 0.],\n",
       "       [0., 1., 0., 0., 0., 0., 0., 0., 0., 0.],\n",
       "       [0., 0., 0., 1., 0., 0., 0., 0., 0., 0.],\n",
       "       [0., 1., 0., 0., 0., 0., 0., 0., 0., 0.],\n",
       "       [0., 0., 0., 0., 1., 0., 0., 0., 0., 0.],\n",
       "       [0., 0., 0., 1., 0., 0., 0., 0., 0., 0.],\n",
       "       [0., 0., 0., 0., 0., 1., 0., 0., 0., 0.],\n",
       "       [0., 0., 0., 1., 0., 0., 0., 0., 0., 0.],\n",
       "       [0., 0., 0., 0., 0., 0., 1., 0., 0., 0.],\n",
       "       [0., 1., 0., 0., 0., 0., 0., 0., 0., 0.],\n",
       "       [0., 0., 0., 0., 0., 0., 0., 1., 0., 0.],\n",
       "       [0., 0., 1., 0., 0., 0., 0., 0., 0., 0.],\n",
       "       [0., 0., 0., 0., 0., 0., 0., 0., 1., 0.],\n",
       "       [0., 0., 0., 0., 0., 0., 1., 0., 0., 0.],\n",
       "       [0., 0., 0., 0., 0., 0., 0., 0., 0., 1.],\n",
       "       [0., 0., 0., 0., 1., 0., 0., 0., 0., 0.],\n",
       "       [1., 0., 0., 0., 0., 0., 0., 0., 0., 0.],\n",
       "       [0., 0., 0., 0., 0., 0., 0., 0., 0., 1.],\n",
       "       [0., 1., 0., 0., 0., 0., 0., 0., 0., 0.],\n",
       "       [0., 1., 0., 0., 0., 0., 0., 0., 0., 0.],\n",
       "       [0., 0., 1., 0., 0., 0., 0., 0., 0., 0.],\n",
       "       [0., 0., 0., 0., 1., 0., 0., 0., 0., 0.],\n",
       "       [0., 0., 0., 1., 0., 0., 0., 0., 0., 0.],\n",
       "       [0., 0., 1., 0., 0., 0., 0., 0., 0., 0.],\n",
       "       [0., 0., 0., 0., 0., 0., 0., 1., 0., 0.],\n",
       "       [0., 0., 0., 1., 0., 0., 0., 0., 0., 0.],\n",
       "       [0., 0., 0., 0., 0., 0., 0., 0., 1., 0.],\n",
       "       [0., 0., 0., 0., 0., 0., 1., 0., 0., 0.],\n",
       "       [0., 0., 0., 0., 0., 0., 0., 0., 0., 1.],\n",
       "       [1., 0., 0., 0., 0., 0., 0., 0., 0., 0.],\n",
       "       [0., 0., 0., 0., 0., 1., 0., 0., 0., 0.],\n",
       "       [0., 0., 0., 0., 0., 0., 1., 0., 0., 0.],\n",
       "       [1., 0., 0., 0., 0., 0., 0., 0., 0., 0.],\n",
       "       [0., 0., 0., 0., 0., 0., 0., 1., 0., 0.],\n",
       "       [0., 0., 0., 0., 0., 0., 1., 0., 0., 0.],\n",
       "       [0., 1., 0., 0., 0., 0., 0., 0., 0., 0.],\n",
       "       [0., 0., 0., 0., 0., 0., 0., 0., 1., 0.],\n",
       "       [0., 0., 0., 0., 0., 0., 0., 1., 0., 0.],\n",
       "       [0., 0., 0., 0., 0., 0., 0., 0., 0., 1.],\n",
       "       [0., 0., 0., 1., 0., 0., 0., 0., 0., 0.],\n",
       "       [0., 0., 0., 0., 0., 0., 0., 0., 0., 1.],\n",
       "       [0., 0., 0., 0., 0., 0., 0., 0., 1., 0.],\n",
       "       [0., 0., 0., 0., 0., 1., 0., 0., 0., 0.],\n",
       "       [0., 0., 0., 0., 0., 0., 0., 0., 0., 1.],\n",
       "       [0., 0., 0., 1., 0., 0., 0., 0., 0., 0.],\n",
       "       [0., 0., 0., 1., 0., 0., 0., 0., 0., 0.],\n",
       "       [1., 0., 0., 0., 0., 0., 0., 0., 0., 0.],\n",
       "       [0., 0., 0., 0., 0., 0., 0., 1., 0., 0.],\n",
       "       [0., 0., 0., 0., 1., 0., 0., 0., 0., 0.],\n",
       "       [0., 0., 0., 0., 0., 0., 0., 0., 0., 1.],\n",
       "       [0., 0., 0., 0., 0., 0., 0., 0., 1., 0.],\n",
       "       [1., 0., 0., 0., 0., 0., 0., 0., 0., 0.],\n",
       "       [0., 0., 0., 0., 0., 0., 0., 0., 0., 1.],\n",
       "       [0., 0., 0., 0., 1., 0., 0., 0., 0., 0.],\n",
       "       [0., 1., 0., 0., 0., 0., 0., 0., 0., 0.],\n",
       "       [0., 0., 0., 0., 1., 0., 0., 0., 0., 0.],\n",
       "       [0., 0., 0., 0., 1., 0., 0., 0., 0., 0.],\n",
       "       [0., 0., 0., 0., 0., 0., 1., 0., 0., 0.],\n",
       "       [1., 0., 0., 0., 0., 0., 0., 0., 0., 0.],\n",
       "       [0., 0., 0., 0., 1., 0., 0., 0., 0., 0.],\n",
       "       [0., 0., 0., 0., 0., 1., 0., 0., 0., 0.],\n",
       "       [0., 0., 0., 0., 0., 0., 1., 0., 0., 0.],\n",
       "       [0., 1., 0., 0., 0., 0., 0., 0., 0., 0.],\n",
       "       [1., 0., 0., 0., 0., 0., 0., 0., 0., 0.],\n",
       "       [1., 0., 0., 0., 0., 0., 0., 0., 0., 0.],\n",
       "       [0., 1., 0., 0., 0., 0., 0., 0., 0., 0.],\n",
       "       [0., 0., 0., 0., 0., 0., 0., 1., 0., 0.],\n",
       "       [0., 1., 0., 0., 0., 0., 0., 0., 0., 0.],\n",
       "       [0., 0., 0., 0., 0., 0., 1., 0., 0., 0.],\n",
       "       [0., 0., 0., 1., 0., 0., 0., 0., 0., 0.],\n",
       "       [1., 0., 0., 0., 0., 0., 0., 0., 0., 0.],\n",
       "       [0., 0., 1., 0., 0., 0., 0., 0., 0., 0.],\n",
       "       [0., 1., 0., 0., 0., 0., 0., 0., 0., 0.],\n",
       "       [0., 1., 0., 0., 0., 0., 0., 0., 0., 0.],\n",
       "       [0., 0., 0., 0., 0., 0., 0., 1., 0., 0.],\n",
       "       [0., 0., 0., 0., 0., 0., 0., 0., 0., 1.],\n",
       "       [1., 0., 0., 0., 0., 0., 0., 0., 0., 0.],\n",
       "       [0., 0., 1., 0., 0., 0., 0., 0., 0., 0.],\n",
       "       [0., 0., 0., 0., 0., 0., 1., 0., 0., 0.],\n",
       "       [0., 0., 0., 0., 0., 0., 0., 1., 0., 0.],\n",
       "       [0., 0., 0., 0., 0., 0., 0., 0., 1., 0.],\n",
       "       [0., 0., 0., 1., 0., 0., 0., 0., 0., 0.],\n",
       "       [0., 0., 0., 0., 0., 0., 0., 0., 0., 1.],\n",
       "       [1., 0., 0., 0., 0., 0., 0., 0., 0., 0.],\n",
       "       [0., 0., 0., 0., 1., 0., 0., 0., 0., 0.],\n",
       "       [0., 0., 0., 0., 0., 0., 1., 0., 0., 0.],\n",
       "       [0., 0., 0., 0., 0., 0., 0., 1., 0., 0.],\n",
       "       [0., 0., 0., 0., 1., 0., 0., 0., 0., 0.],\n",
       "       [0., 0., 0., 0., 0., 0., 1., 0., 0., 0.],\n",
       "       [0., 0., 0., 0., 0., 0., 0., 0., 1., 0.],\n",
       "       [1., 0., 0., 0., 0., 0., 0., 0., 0., 0.],\n",
       "       [0., 0., 0., 0., 0., 0., 0., 1., 0., 0.],\n",
       "       [0., 0., 0., 0., 0., 0., 0., 0., 1., 0.],\n",
       "       [0., 0., 0., 1., 0., 0., 0., 0., 0., 0.],\n",
       "       [0., 1., 0., 0., 0., 0., 0., 0., 0., 0.]])"
      ]
     },
     "execution_count": 16,
     "metadata": {},
     "output_type": "execute_result"
    }
   ],
   "source": [
    "to_categorical(y_train[:100])"
   ]
  },
  {
   "cell_type": "code",
   "execution_count": 17,
   "id": "afe61084",
   "metadata": {
    "execution": {
     "iopub.execute_input": "2024-03-06T05:32:40.256579Z",
     "iopub.status.busy": "2024-03-06T05:32:40.255909Z",
     "iopub.status.idle": "2024-03-06T05:32:40.265294Z",
     "shell.execute_reply": "2024-03-06T05:32:40.264319Z"
    },
    "papermill": {
     "duration": 0.029241,
     "end_time": "2024-03-06T05:32:40.267660",
     "exception": false,
     "start_time": "2024-03-06T05:32:40.238419",
     "status": "completed"
    },
    "tags": []
   },
   "outputs": [],
   "source": [
    "y_example = to_categorical(y_train)"
   ]
  },
  {
   "cell_type": "code",
   "execution_count": 18,
   "id": "1ff91e9a",
   "metadata": {
    "execution": {
     "iopub.execute_input": "2024-03-06T05:32:40.299796Z",
     "iopub.status.busy": "2024-03-06T05:32:40.299121Z",
     "iopub.status.idle": "2024-03-06T05:32:40.305086Z",
     "shell.execute_reply": "2024-03-06T05:32:40.304290Z"
    },
    "papermill": {
     "duration": 0.024148,
     "end_time": "2024-03-06T05:32:40.307161",
     "exception": false,
     "start_time": "2024-03-06T05:32:40.283013",
     "status": "completed"
    },
    "tags": []
   },
   "outputs": [
    {
     "data": {
      "text/plain": [
       "(60000, 10)"
      ]
     },
     "execution_count": 18,
     "metadata": {},
     "output_type": "execute_result"
    }
   ],
   "source": [
    "y_example.shape"
   ]
  },
  {
   "cell_type": "code",
   "execution_count": 19,
   "id": "56063b62",
   "metadata": {
    "execution": {
     "iopub.execute_input": "2024-03-06T05:32:40.400811Z",
     "iopub.status.busy": "2024-03-06T05:32:40.400123Z",
     "iopub.status.idle": "2024-03-06T05:32:40.406400Z",
     "shell.execute_reply": "2024-03-06T05:32:40.405473Z"
    },
    "papermill": {
     "duration": 0.086229,
     "end_time": "2024-03-06T05:32:40.408448",
     "exception": false,
     "start_time": "2024-03-06T05:32:40.322219",
     "status": "completed"
    },
    "tags": []
   },
   "outputs": [
    {
     "data": {
      "text/plain": [
       "array([0., 0., 0., 0., 0., 1., 0., 0., 0., 0.])"
      ]
     },
     "execution_count": 19,
     "metadata": {},
     "output_type": "execute_result"
    }
   ],
   "source": [
    "y_example[0]"
   ]
  },
  {
   "cell_type": "code",
   "execution_count": 20,
   "id": "aa5f2643",
   "metadata": {
    "execution": {
     "iopub.execute_input": "2024-03-06T05:32:40.440618Z",
     "iopub.status.busy": "2024-03-06T05:32:40.440185Z",
     "iopub.status.idle": "2024-03-06T05:32:40.445498Z",
     "shell.execute_reply": "2024-03-06T05:32:40.444314Z"
    },
    "papermill": {
     "duration": 0.023777,
     "end_time": "2024-03-06T05:32:40.447871",
     "exception": false,
     "start_time": "2024-03-06T05:32:40.424094",
     "status": "completed"
    },
    "tags": []
   },
   "outputs": [],
   "source": [
    "y_cat_test = to_categorical(y_test, 10)"
   ]
  },
  {
   "cell_type": "code",
   "execution_count": 21,
   "id": "6eca57ce",
   "metadata": {
    "execution": {
     "iopub.execute_input": "2024-03-06T05:32:40.480534Z",
     "iopub.status.busy": "2024-03-06T05:32:40.480143Z",
     "iopub.status.idle": "2024-03-06T05:32:40.487826Z",
     "shell.execute_reply": "2024-03-06T05:32:40.486673Z"
    },
    "papermill": {
     "duration": 0.02678,
     "end_time": "2024-03-06T05:32:40.490131",
     "exception": false,
     "start_time": "2024-03-06T05:32:40.463351",
     "status": "completed"
    },
    "tags": []
   },
   "outputs": [
    {
     "data": {
      "text/plain": [
       "array([[0., 0., 0., ..., 1., 0., 0.],\n",
       "       [0., 0., 1., ..., 0., 0., 0.],\n",
       "       [0., 1., 0., ..., 0., 0., 0.],\n",
       "       ...,\n",
       "       [0., 0., 0., ..., 0., 0., 0.],\n",
       "       [0., 0., 0., ..., 0., 0., 0.],\n",
       "       [0., 0., 0., ..., 0., 0., 0.]])"
      ]
     },
     "execution_count": 21,
     "metadata": {},
     "output_type": "execute_result"
    }
   ],
   "source": [
    "y_cat_test"
   ]
  },
  {
   "cell_type": "code",
   "execution_count": 22,
   "id": "67881a64",
   "metadata": {
    "execution": {
     "iopub.execute_input": "2024-03-06T05:32:40.522505Z",
     "iopub.status.busy": "2024-03-06T05:32:40.522098Z",
     "iopub.status.idle": "2024-03-06T05:32:40.533353Z",
     "shell.execute_reply": "2024-03-06T05:32:40.532077Z"
    },
    "papermill": {
     "duration": 0.030651,
     "end_time": "2024-03-06T05:32:40.536182",
     "exception": false,
     "start_time": "2024-03-06T05:32:40.505531",
     "status": "completed"
    },
    "tags": []
   },
   "outputs": [],
   "source": [
    "y_cat_train = to_categorical(y_train, 10)"
   ]
  },
  {
   "cell_type": "code",
   "execution_count": 23,
   "id": "5e555f67",
   "metadata": {
    "execution": {
     "iopub.execute_input": "2024-03-06T05:32:40.569209Z",
     "iopub.status.busy": "2024-03-06T05:32:40.568813Z",
     "iopub.status.idle": "2024-03-06T05:32:40.576196Z",
     "shell.execute_reply": "2024-03-06T05:32:40.575316Z"
    },
    "papermill": {
     "duration": 0.025779,
     "end_time": "2024-03-06T05:32:40.578032",
     "exception": false,
     "start_time": "2024-03-06T05:32:40.552253",
     "status": "completed"
    },
    "tags": []
   },
   "outputs": [
    {
     "data": {
      "text/plain": [
       "array([[0., 0., 0., ..., 0., 0., 0.],\n",
       "       [1., 0., 0., ..., 0., 0., 0.],\n",
       "       [0., 0., 0., ..., 0., 0., 0.],\n",
       "       ...,\n",
       "       [0., 0., 0., ..., 0., 0., 0.],\n",
       "       [0., 0., 0., ..., 0., 0., 0.],\n",
       "       [0., 0., 0., ..., 0., 1., 0.]])"
      ]
     },
     "execution_count": 23,
     "metadata": {},
     "output_type": "execute_result"
    }
   ],
   "source": [
    "y_cat_train"
   ]
  },
  {
   "cell_type": "markdown",
   "id": "89237610",
   "metadata": {
    "papermill": {
     "duration": 0.015378,
     "end_time": "2024-03-06T05:32:40.609880",
     "exception": false,
     "start_time": "2024-03-06T05:32:40.594502",
     "status": "completed"
    },
    "tags": []
   },
   "source": [
    "## Processing X Data"
   ]
  },
  {
   "cell_type": "code",
   "execution_count": 24,
   "id": "6086da39",
   "metadata": {
    "execution": {
     "iopub.execute_input": "2024-03-06T05:32:40.642957Z",
     "iopub.status.busy": "2024-03-06T05:32:40.642541Z",
     "iopub.status.idle": "2024-03-06T05:32:40.649139Z",
     "shell.execute_reply": "2024-03-06T05:32:40.647961Z"
    },
    "papermill": {
     "duration": 0.025376,
     "end_time": "2024-03-06T05:32:40.651252",
     "exception": false,
     "start_time": "2024-03-06T05:32:40.625876",
     "status": "completed"
    },
    "tags": []
   },
   "outputs": [
    {
     "data": {
      "text/plain": [
       "255"
      ]
     },
     "execution_count": 24,
     "metadata": {},
     "output_type": "execute_result"
    }
   ],
   "source": [
    "single_image.max()"
   ]
  },
  {
   "cell_type": "code",
   "execution_count": 25,
   "id": "c2cc6ea1",
   "metadata": {
    "execution": {
     "iopub.execute_input": "2024-03-06T05:32:40.684434Z",
     "iopub.status.busy": "2024-03-06T05:32:40.684030Z",
     "iopub.status.idle": "2024-03-06T05:32:40.691395Z",
     "shell.execute_reply": "2024-03-06T05:32:40.690071Z"
    },
    "papermill": {
     "duration": 0.02659,
     "end_time": "2024-03-06T05:32:40.693578",
     "exception": false,
     "start_time": "2024-03-06T05:32:40.666988",
     "status": "completed"
    },
    "tags": []
   },
   "outputs": [
    {
     "data": {
      "text/plain": [
       "0"
      ]
     },
     "execution_count": 25,
     "metadata": {},
     "output_type": "execute_result"
    }
   ],
   "source": [
    "single_image.min()"
   ]
  },
  {
   "cell_type": "code",
   "execution_count": 26,
   "id": "845764ab",
   "metadata": {
    "execution": {
     "iopub.execute_input": "2024-03-06T05:32:40.727888Z",
     "iopub.status.busy": "2024-03-06T05:32:40.727475Z",
     "iopub.status.idle": "2024-03-06T05:32:40.928125Z",
     "shell.execute_reply": "2024-03-06T05:32:40.926684Z"
    },
    "papermill": {
     "duration": 0.221159,
     "end_time": "2024-03-06T05:32:40.930818",
     "exception": false,
     "start_time": "2024-03-06T05:32:40.709659",
     "status": "completed"
    },
    "tags": []
   },
   "outputs": [],
   "source": [
    "x_train = x_train/255\n",
    "x_test = x_test/255"
   ]
  },
  {
   "cell_type": "code",
   "execution_count": 27,
   "id": "fc2eb929",
   "metadata": {
    "execution": {
     "iopub.execute_input": "2024-03-06T05:32:40.964623Z",
     "iopub.status.busy": "2024-03-06T05:32:40.964244Z",
     "iopub.status.idle": "2024-03-06T05:32:40.969214Z",
     "shell.execute_reply": "2024-03-06T05:32:40.968085Z"
    },
    "papermill": {
     "duration": 0.02441,
     "end_time": "2024-03-06T05:32:40.971305",
     "exception": false,
     "start_time": "2024-03-06T05:32:40.946895",
     "status": "completed"
    },
    "tags": []
   },
   "outputs": [],
   "source": [
    "scaled_single = x_train[0]"
   ]
  },
  {
   "cell_type": "code",
   "execution_count": 28,
   "id": "dae66f2a",
   "metadata": {
    "execution": {
     "iopub.execute_input": "2024-03-06T05:32:41.005138Z",
     "iopub.status.busy": "2024-03-06T05:32:41.004474Z",
     "iopub.status.idle": "2024-03-06T05:32:41.009966Z",
     "shell.execute_reply": "2024-03-06T05:32:41.009095Z"
    },
    "papermill": {
     "duration": 0.024769,
     "end_time": "2024-03-06T05:32:41.012078",
     "exception": false,
     "start_time": "2024-03-06T05:32:40.987309",
     "status": "completed"
    },
    "tags": []
   },
   "outputs": [
    {
     "data": {
      "text/plain": [
       "0.0"
      ]
     },
     "execution_count": 28,
     "metadata": {},
     "output_type": "execute_result"
    }
   ],
   "source": [
    "scaled_single.min()"
   ]
  },
  {
   "cell_type": "code",
   "execution_count": 29,
   "id": "04f48a73",
   "metadata": {
    "execution": {
     "iopub.execute_input": "2024-03-06T05:32:41.046907Z",
     "iopub.status.busy": "2024-03-06T05:32:41.046313Z",
     "iopub.status.idle": "2024-03-06T05:32:41.289932Z",
     "shell.execute_reply": "2024-03-06T05:32:41.288686Z"
    },
    "papermill": {
     "duration": 0.264083,
     "end_time": "2024-03-06T05:32:41.292426",
     "exception": false,
     "start_time": "2024-03-06T05:32:41.028343",
     "status": "completed"
    },
    "tags": []
   },
   "outputs": [
    {
     "data": {
      "text/plain": [
       "<matplotlib.image.AxesImage at 0x7de79ed38700>"
      ]
     },
     "execution_count": 29,
     "metadata": {},
     "output_type": "execute_result"
    },
    {
     "data": {
      "image/png": "[encoded data removed]",
      "text/plain": [
       "<Figure size 640x480 with 1 Axes>"
      ]
     },
     "metadata": {},
     "output_type": "display_data"
    }
   ],
   "source": [
    "plt.imshow(scaled_single)"
   ]
  },
  {
   "cell_type": "markdown",
   "id": "6558444d",
   "metadata": {
    "papermill": {
     "duration": 0.016361,
     "end_time": "2024-03-06T05:32:41.325956",
     "exception": false,
     "start_time": "2024-03-06T05:32:41.309595",
     "status": "completed"
    },
    "tags": []
   },
   "source": [
    "## Reshaping the Data"
   ]
  },
  {
   "cell_type": "code",
   "execution_count": 30,
   "id": "18606d6c",
   "metadata": {
    "execution": {
     "iopub.execute_input": "2024-03-06T05:32:41.361551Z",
     "iopub.status.busy": "2024-03-06T05:32:41.360951Z",
     "iopub.status.idle": "2024-03-06T05:32:41.368341Z",
     "shell.execute_reply": "2024-03-06T05:32:41.366959Z"
    },
    "papermill": {
     "duration": 0.027273,
     "end_time": "2024-03-06T05:32:41.370521",
     "exception": false,
     "start_time": "2024-03-06T05:32:41.343248",
     "status": "completed"
    },
    "tags": []
   },
   "outputs": [
    {
     "data": {
      "text/plain": [
       "(60000, 28, 28)"
      ]
     },
     "execution_count": 30,
     "metadata": {},
     "output_type": "execute_result"
    }
   ],
   "source": [
    "x_train.shape"
   ]
  },
  {
   "cell_type": "code",
   "execution_count": 31,
   "id": "271739a1",
   "metadata": {
    "execution": {
     "iopub.execute_input": "2024-03-06T05:32:41.406113Z",
     "iopub.status.busy": "2024-03-06T05:32:41.405673Z",
     "iopub.status.idle": "2024-03-06T05:32:41.412254Z",
     "shell.execute_reply": "2024-03-06T05:32:41.411079Z"
    },
    "papermill": {
     "duration": 0.02722,
     "end_time": "2024-03-06T05:32:41.414656",
     "exception": false,
     "start_time": "2024-03-06T05:32:41.387436",
     "status": "completed"
    },
    "tags": []
   },
   "outputs": [
    {
     "data": {
      "text/plain": [
       "(10000, 28, 28)"
      ]
     },
     "execution_count": 31,
     "metadata": {},
     "output_type": "execute_result"
    }
   ],
   "source": [
    "x_test.shape"
   ]
  },
  {
   "cell_type": "code",
   "execution_count": 32,
   "id": "43116584",
   "metadata": {
    "execution": {
     "iopub.execute_input": "2024-03-06T05:32:41.451027Z",
     "iopub.status.busy": "2024-03-06T05:32:41.450598Z",
     "iopub.status.idle": "2024-03-06T05:32:41.455431Z",
     "shell.execute_reply": "2024-03-06T05:32:41.454362Z"
    },
    "papermill": {
     "duration": 0.025606,
     "end_time": "2024-03-06T05:32:41.457917",
     "exception": false,
     "start_time": "2024-03-06T05:32:41.432311",
     "status": "completed"
    },
    "tags": []
   },
   "outputs": [],
   "source": [
    "x_train = x_train.reshape(60000, 28, 28, 1)"
   ]
  },
  {
   "cell_type": "code",
   "execution_count": 33,
   "id": "1e538eee",
   "metadata": {
    "execution": {
     "iopub.execute_input": "2024-03-06T05:32:41.493496Z",
     "iopub.status.busy": "2024-03-06T05:32:41.493115Z",
     "iopub.status.idle": "2024-03-06T05:32:41.499509Z",
     "shell.execute_reply": "2024-03-06T05:32:41.498511Z"
    },
    "papermill": {
     "duration": 0.026455,
     "end_time": "2024-03-06T05:32:41.501600",
     "exception": false,
     "start_time": "2024-03-06T05:32:41.475145",
     "status": "completed"
    },
    "tags": []
   },
   "outputs": [
    {
     "data": {
      "text/plain": [
       "(60000, 28, 28, 1)"
      ]
     },
     "execution_count": 33,
     "metadata": {},
     "output_type": "execute_result"
    }
   ],
   "source": [
    "x_train.shape"
   ]
  },
  {
   "cell_type": "code",
   "execution_count": 34,
   "id": "903fb527",
   "metadata": {
    "execution": {
     "iopub.execute_input": "2024-03-06T05:32:41.538936Z",
     "iopub.status.busy": "2024-03-06T05:32:41.538107Z",
     "iopub.status.idle": "2024-03-06T05:32:41.543337Z",
     "shell.execute_reply": "2024-03-06T05:32:41.542159Z"
    },
    "papermill": {
     "duration": 0.026734,
     "end_time": "2024-03-06T05:32:41.545290",
     "exception": false,
     "start_time": "2024-03-06T05:32:41.518556",
     "status": "completed"
    },
    "tags": []
   },
   "outputs": [],
   "source": [
    "x_test = x_test.reshape(10000, 28, 28, 1)"
   ]
  },
  {
   "cell_type": "code",
   "execution_count": 35,
   "id": "c7eaaed9",
   "metadata": {
    "execution": {
     "iopub.execute_input": "2024-03-06T05:32:41.580909Z",
     "iopub.status.busy": "2024-03-06T05:32:41.580449Z",
     "iopub.status.idle": "2024-03-06T05:32:41.586674Z",
     "shell.execute_reply": "2024-03-06T05:32:41.585897Z"
    },
    "papermill": {
     "duration": 0.026417,
     "end_time": "2024-03-06T05:32:41.588750",
     "exception": false,
     "start_time": "2024-03-06T05:32:41.562333",
     "status": "completed"
    },
    "tags": []
   },
   "outputs": [
    {
     "data": {
      "text/plain": [
       "(10000, 28, 28, 1)"
      ]
     },
     "execution_count": 35,
     "metadata": {},
     "output_type": "execute_result"
    }
   ],
   "source": [
    "x_test.shape"
   ]
  },
  {
   "cell_type": "markdown",
   "id": "e12c58f1",
   "metadata": {
    "papermill": {
     "duration": 0.016604,
     "end_time": "2024-03-06T05:32:41.622959",
     "exception": false,
     "start_time": "2024-03-06T05:32:41.606355",
     "status": "completed"
    },
    "tags": []
   },
   "source": [
    "## Training the Data"
   ]
  },
  {
   "cell_type": "code",
   "execution_count": 36,
   "id": "cd0c301b",
   "metadata": {
    "execution": {
     "iopub.execute_input": "2024-03-06T05:32:41.659260Z",
     "iopub.status.busy": "2024-03-06T05:32:41.658880Z",
     "iopub.status.idle": "2024-03-06T05:32:41.664931Z",
     "shell.execute_reply": "2024-03-06T05:32:41.664036Z"
    },
    "papermill": {
     "duration": 0.026647,
     "end_time": "2024-03-06T05:32:41.666992",
     "exception": false,
     "start_time": "2024-03-06T05:32:41.640345",
     "status": "completed"
    },
    "tags": []
   },
   "outputs": [
    {
     "data": {
      "text/plain": [
       "784"
      ]
     },
     "execution_count": 36,
     "metadata": {},
     "output_type": "execute_result"
    }
   ],
   "source": [
    "28*28"
   ]
  },
  {
   "cell_type": "code",
   "execution_count": 37,
   "id": "a6e855ca",
   "metadata": {
    "execution": {
     "iopub.execute_input": "2024-03-06T05:32:41.704385Z",
     "iopub.status.busy": "2024-03-06T05:32:41.703915Z",
     "iopub.status.idle": "2024-03-06T05:32:41.712383Z",
     "shell.execute_reply": "2024-03-06T05:32:41.711160Z"
    },
    "papermill": {
     "duration": 0.030366,
     "end_time": "2024-03-06T05:32:41.714871",
     "exception": false,
     "start_time": "2024-03-06T05:32:41.684505",
     "status": "completed"
    },
    "tags": []
   },
   "outputs": [],
   "source": [
    "from tensorflow.keras.models import Sequential\n",
    "from tensorflow.keras.layers import Dense, Conv2D, MaxPool2D, Flatten"
   ]
  },
  {
   "cell_type": "code",
   "execution_count": 38,
   "id": "0ada16d4",
   "metadata": {
    "execution": {
     "iopub.execute_input": "2024-03-06T05:32:41.752045Z",
     "iopub.status.busy": "2024-03-06T05:32:41.751586Z",
     "iopub.status.idle": "2024-03-06T05:32:41.869913Z",
     "shell.execute_reply": "2024-03-06T05:32:41.868670Z"
    },
    "papermill": {
     "duration": 0.139647,
     "end_time": "2024-03-06T05:32:41.872429",
     "exception": false,
     "start_time": "2024-03-06T05:32:41.732782",
     "status": "completed"
    },
    "tags": []
   },
   "outputs": [
    {
     "name": "stderr",
     "output_type": "stream",
     "text": [
      "/opt/conda/lib/python3.10/site-packages/keras/src/layers/convolutional/base_conv.py:99: UserWarning: Do not pass an `input_shape`/`input_dim` argument to a layer. When using Sequential models, prefer using an `Input(shape)` object as the first layer in the model instead.\n",
      "  super().__init__(\n"
     ]
    }
   ],
   "source": [
    "model = Sequential()\n",
    "\n",
    "# CONVOLUTIONAL LAYER\n",
    "model.add(Conv2D(filters=32, kernel_size=(4,4), input_shape=(28, 28, 1), activation='relu'))\n",
    "\n",
    "# POOLING LAYER\n",
    "model.add(MaxPool2D(pool_size=(2, 2)))\n",
    "\n",
    "# FLATTEN IMAGES FROM 28 BY 28 TO 764 BEFORE FINAL LAYER\n",
    "model.add(Flatten())\n",
    "\n",
    "# 128 NEURONS IN DENSE HIDDEN LAYER (YOU CAN CHANGE THIS NUMBER OF NEURONS)\n",
    "model.add(Dense(128, activation='relu'))\n",
    "\n",
    "# LAST LAYER IS THE CLASSIFIER, THUS 10 POSSIBLE CLASSES\n",
    "model.add(Dense(10, activation='softmax'))\n",
    "\n",
    "# https://keras.io/metrics/\n",
    "model.compile(loss='categorical_crossentropy',\n",
    "              optimizer='adam',\n",
    "              metrics=['accuracy'])"
   ]
  },
  {
   "cell_type": "code",
   "execution_count": 39,
   "id": "1f267aa2",
   "metadata": {
    "execution": {
     "iopub.execute_input": "2024-03-06T05:32:41.909750Z",
     "iopub.status.busy": "2024-03-06T05:32:41.909348Z",
     "iopub.status.idle": "2024-03-06T05:32:41.932209Z",
     "shell.execute_reply": "2024-03-06T05:32:41.931120Z"
    },
    "papermill": {
     "duration": 0.044409,
     "end_time": "2024-03-06T05:32:41.934371",
     "exception": false,
     "start_time": "2024-03-06T05:32:41.889962",
     "status": "completed"
    },
    "tags": []
   },
   "outputs": [
    {
     "data": {
      "text/html": [
       "<pre style=\"white-space:pre;overflow-x:auto;line-height:normal;font-family:Menlo,'DejaVu Sans Mono',consolas,'Courier New',monospace\"><span style=\"font-weight: bold\">Model: \"sequential\"</span>\n",
       "</pre>\n"
      ],
      "text/plain": [
       "\u001b[1mModel: \"sequential\"\u001b[0m\n"
      ]
     },
     "metadata": {},
     "output_type": "display_data"
    },
    {
     "data": {
      "text/html": [
       "<pre style=\"white-space:pre;overflow-x:auto;line-height:normal;font-family:Menlo,'DejaVu Sans Mono',consolas,'Courier New',monospace\">┏━━━━━━━━━━━━━━━━━━━━━━━━━━━━━━━━━┳━━━━━━━━━━━━━━━━━━━━━━━━┳━━━━━━━━━━━━━━━┓\n",
       "┃<span style=\"font-weight: bold\"> Layer (type)                    </span>┃<span style=\"font-weight: bold\"> Output Shape           </span>┃<span style=\"font-weight: bold\">       Param # </span>┃\n",
       "┡━━━━━━━━━━━━━━━━━━━━━━━━━━━━━━━━━╇━━━━━━━━━━━━━━━━━━━━━━━━╇━━━━━━━━━━━━━━━┩\n",
       "│ conv2d (<span style=\"color: #0087ff; text-decoration-color: #0087ff\">Conv2D</span>)                 │ (<span style=\"color: #00d7ff; text-decoration-color: #00d7ff\">None</span>, <span style=\"color: #00af00; text-decoration-color: #00af00\">25</span>, <span style=\"color: #00af00; text-decoration-color: #00af00\">25</span>, <span style=\"color: #00af00; text-decoration-color: #00af00\">32</span>)     │           <span style=\"color: #00af00; text-decoration-color: #00af00\">544</span> │\n",
       "├─────────────────────────────────┼────────────────────────┼───────────────┤\n",
       "│ max_pooling2d (<span style=\"color: #0087ff; text-decoration-color: #0087ff\">MaxPooling2D</span>)    │ (<span style=\"color: #00d7ff; text-decoration-color: #00d7ff\">None</span>, <span style=\"color: #00af00; text-decoration-color: #00af00\">12</span>, <span style=\"color: #00af00; text-decoration-color: #00af00\">12</span>, <span style=\"color: #00af00; text-decoration-color: #00af00\">32</span>)     │             <span style=\"color: #00af00; text-decoration-color: #00af00\">0</span> │\n",
       "├─────────────────────────────────┼────────────────────────┼───────────────┤\n",
       "│ flatten (<span style=\"color: #0087ff; text-decoration-color: #0087ff\">Flatten</span>)               │ (<span style=\"color: #00d7ff; text-decoration-color: #00d7ff\">None</span>, <span style=\"color: #00af00; text-decoration-color: #00af00\">4608</span>)           │             <span style=\"color: #00af00; text-decoration-color: #00af00\">0</span> │\n",
       "├─────────────────────────────────┼────────────────────────┼───────────────┤\n",
       "│ dense (<span style=\"color: #0087ff; text-decoration-color: #0087ff\">Dense</span>)                   │ (<span style=\"color: #00d7ff; text-decoration-color: #00d7ff\">None</span>, <span style=\"color: #00af00; text-decoration-color: #00af00\">128</span>)            │       <span style=\"color: #00af00; text-decoration-color: #00af00\">589,952</span> │\n",
       "├─────────────────────────────────┼────────────────────────┼───────────────┤\n",
       "│ dense_1 (<span style=\"color: #0087ff; text-decoration-color: #0087ff\">Dense</span>)                 │ (<span style=\"color: #00d7ff; text-decoration-color: #00d7ff\">None</span>, <span style=\"color: #00af00; text-decoration-color: #00af00\">10</span>)             │         <span style=\"color: #00af00; text-decoration-color: #00af00\">1,290</span> │\n",
       "└─────────────────────────────────┴────────────────────────┴───────────────┘\n",
       "</pre>\n"
      ],
      "text/plain": [
       "┏━━━━━━━━━━━━━━━━━━━━━━━━━━━━━━━━━┳━━━━━━━━━━━━━━━━━━━━━━━━┳━━━━━━━━━━━━━━━┓\n",
       "┃\u001b[1m \u001b[0m\u001b[1mLayer (type)                   \u001b[0m\u001b[1m \u001b[0m┃\u001b[1m \u001b[0m\u001b[1mOutput Shape          \u001b[0m\u001b[1m \u001b[0m┃\u001b[1m \u001b[0m\u001b[1m      Param #\u001b[0m\u001b[1m \u001b[0m┃\n",
       "┡━━━━━━━━━━━━━━━━━━━━━━━━━━━━━━━━━╇━━━━━━━━━━━━━━━━━━━━━━━━╇━━━━━━━━━━━━━━━┩\n",
       "│ conv2d (\u001b[38;5;33mConv2D\u001b[0m)                 │ (\u001b[38;5;45mNone\u001b[0m, \u001b[38;5;34m25\u001b[0m, \u001b[38;5;34m25\u001b[0m, \u001b[38;5;34m32\u001b[0m)     │           \u001b[38;5;34m544\u001b[0m │\n",
       "├─────────────────────────────────┼────────────────────────┼───────────────┤\n",
       "│ max_pooling2d (\u001b[38;5;33mMaxPooling2D\u001b[0m)    │ (\u001b[38;5;45mNone\u001b[0m, \u001b[38;5;34m12\u001b[0m, \u001b[38;5;34m12\u001b[0m, \u001b[38;5;34m32\u001b[0m)     │             \u001b[38;5;34m0\u001b[0m │\n",
       "├─────────────────────────────────┼────────────────────────┼───────────────┤\n",
       "│ flatten (\u001b[38;5;33mFlatten\u001b[0m)               │ (\u001b[38;5;45mNone\u001b[0m, \u001b[38;5;34m4608\u001b[0m)           │             \u001b[38;5;34m0\u001b[0m │\n",
       "├─────────────────────────────────┼────────────────────────┼───────────────┤\n",
       "│ dense (\u001b[38;5;33mDense\u001b[0m)                   │ (\u001b[38;5;45mNone\u001b[0m, \u001b[38;5;34m128\u001b[0m)            │       \u001b[38;5;34m589,952\u001b[0m │\n",
       "├─────────────────────────────────┼────────────────────────┼───────────────┤\n",
       "│ dense_1 (\u001b[38;5;33mDense\u001b[0m)                 │ (\u001b[38;5;45mNone\u001b[0m, \u001b[38;5;34m10\u001b[0m)             │         \u001b[38;5;34m1,290\u001b[0m │\n",
       "└─────────────────────────────────┴────────────────────────┴───────────────┘\n"
      ]
     },
     "metadata": {},
     "output_type": "display_data"
    },
    {
     "data": {
      "text/html": [
       "<pre style=\"white-space:pre;overflow-x:auto;line-height:normal;font-family:Menlo,'DejaVu Sans Mono',consolas,'Courier New',monospace\"><span style=\"font-weight: bold\"> Total params: </span><span style=\"color: #00af00; text-decoration-color: #00af00\">591,786</span> (2.26 MB)\n",
       "</pre>\n"
      ],
      "text/plain": [
       "\u001b[1m Total params: \u001b[0m\u001b[38;5;34m591,786\u001b[0m (2.26 MB)\n"
      ]
     },
     "metadata": {},
     "output_type": "display_data"
    },
    {
     "data": {
      "text/html": [
       "<pre style=\"white-space:pre;overflow-x:auto;line-height:normal;font-family:Menlo,'DejaVu Sans Mono',consolas,'Courier New',monospace\"><span style=\"font-weight: bold\"> Trainable params: </span><span style=\"color: #00af00; text-decoration-color: #00af00\">591,786</span> (2.26 MB)\n",
       "</pre>\n"
      ],
      "text/plain": [
       "\u001b[1m Trainable params: \u001b[0m\u001b[38;5;34m591,786\u001b[0m (2.26 MB)\n"
      ]
     },
     "metadata": {},
     "output_type": "display_data"
    },
    {
     "data": {
      "text/html": [
       "<pre style=\"white-space:pre;overflow-x:auto;line-height:normal;font-family:Menlo,'DejaVu Sans Mono',consolas,'Courier New',monospace\"><span style=\"font-weight: bold\"> Non-trainable params: </span><span style=\"color: #00af00; text-decoration-color: #00af00\">0</span> (0.00 B)\n",
       "</pre>\n"
      ],
      "text/plain": [
       "\u001b[1m Non-trainable params: \u001b[0m\u001b[38;5;34m0\u001b[0m (0.00 B)\n"
      ]
     },
     "metadata": {},
     "output_type": "display_data"
    }
   ],
   "source": [
    "model.summary()"
   ]
  },
  {
   "cell_type": "code",
   "execution_count": 40,
   "id": "9cda6dce",
   "metadata": {
    "execution": {
     "iopub.execute_input": "2024-03-06T05:32:41.973184Z",
     "iopub.status.busy": "2024-03-06T05:32:41.972237Z",
     "iopub.status.idle": "2024-03-06T05:32:41.979457Z",
     "shell.execute_reply": "2024-03-06T05:32:41.978527Z"
    },
    "papermill": {
     "duration": 0.029175,
     "end_time": "2024-03-06T05:32:41.981916",
     "exception": false,
     "start_time": "2024-03-06T05:32:41.952741",
     "status": "completed"
    },
    "tags": []
   },
   "outputs": [],
   "source": [
    "from tensorflow.keras.callbacks import EarlyStopping"
   ]
  },
  {
   "cell_type": "code",
   "execution_count": 41,
   "id": "9860e511",
   "metadata": {
    "execution": {
     "iopub.execute_input": "2024-03-06T05:32:42.021264Z",
     "iopub.status.busy": "2024-03-06T05:32:42.020581Z",
     "iopub.status.idle": "2024-03-06T05:32:42.026087Z",
     "shell.execute_reply": "2024-03-06T05:32:42.025012Z"
    },
    "papermill": {
     "duration": 0.027701,
     "end_time": "2024-03-06T05:32:42.028300",
     "exception": false,
     "start_time": "2024-03-06T05:32:42.000599",
     "status": "completed"
    },
    "tags": []
   },
   "outputs": [],
   "source": [
    "early_stop = EarlyStopping(monitor='val_loss', patience=2)"
   ]
  },
  {
   "cell_type": "markdown",
   "id": "37a6cf04",
   "metadata": {
    "papermill": {
     "duration": 0.018761,
     "end_time": "2024-03-06T05:32:42.065640",
     "exception": false,
     "start_time": "2024-03-06T05:32:42.046879",
     "status": "completed"
    },
    "tags": []
   },
   "source": [
    "## Train the Model"
   ]
  },
  {
   "cell_type": "code",
   "execution_count": 42,
   "id": "1698fccd",
   "metadata": {
    "execution": {
     "iopub.execute_input": "2024-03-06T05:32:42.105898Z",
     "iopub.status.busy": "2024-03-06T05:32:42.105501Z",
     "iopub.status.idle": "2024-03-06T05:35:34.206570Z",
     "shell.execute_reply": "2024-03-06T05:35:34.205343Z"
    },
    "papermill": {
     "duration": 172.124166,
     "end_time": "2024-03-06T05:35:34.209131",
     "exception": false,
     "start_time": "2024-03-06T05:32:42.084965",
     "status": "completed"
    },
    "tags": []
   },
   "outputs": [
    {
     "name": "stdout",
     "output_type": "stream",
     "text": [
      "Epoch 1/10\n",
      "\u001b[1m1875/1875\u001b[0m \u001b[32m━━━━━━━━━━━━━━━━━━━━\u001b[0m\u001b[37m\u001b[0m \u001b[1m24s\u001b[0m 12ms/step - accuracy: 0.9090 - loss: 0.2984 - val_accuracy: 0.9799 - val_loss: 0.0593\n",
      "Epoch 2/10\n",
      "\u001b[1m1875/1875\u001b[0m \u001b[32m━━━━━━━━━━━━━━━━━━━━\u001b[0m\u001b[37m\u001b[0m \u001b[1m22s\u001b[0m 12ms/step - accuracy: 0.9862 - loss: 0.0459 - val_accuracy: 0.9852 - val_loss: 0.0433\n",
      "Epoch 3/10\n",
      "\u001b[1m1875/1875\u001b[0m \u001b[32m━━━━━━━━━━━━━━━━━━━━\u001b[0m\u001b[37m\u001b[0m \u001b[1m21s\u001b[0m 11ms/step - accuracy: 0.9907 - loss: 0.0295 - val_accuracy: 0.9866 - val_loss: 0.0398\n",
      "Epoch 4/10\n",
      "\u001b[1m1875/1875\u001b[0m \u001b[32m━━━━━━━━━━━━━━━━━━━━\u001b[0m\u001b[37m\u001b[0m \u001b[1m21s\u001b[0m 11ms/step - accuracy: 0.9949 - loss: 0.0172 - val_accuracy: 0.9893 - val_loss: 0.0331\n",
      "Epoch 5/10\n",
      "\u001b[1m1875/1875\u001b[0m \u001b[32m━━━━━━━━━━━━━━━━━━━━\u001b[0m\u001b[37m\u001b[0m \u001b[1m21s\u001b[0m 11ms/step - accuracy: 0.9956 - loss: 0.0128 - val_accuracy: 0.9894 - val_loss: 0.0304\n",
      "Epoch 6/10\n",
      "\u001b[1m1875/1875\u001b[0m \u001b[32m━━━━━━━━━━━━━━━━━━━━\u001b[0m\u001b[37m\u001b[0m \u001b[1m21s\u001b[0m 11ms/step - accuracy: 0.9975 - loss: 0.0090 - val_accuracy: 0.9885 - val_loss: 0.0388\n",
      "Epoch 7/10\n",
      "\u001b[1m1875/1875\u001b[0m \u001b[32m━━━━━━━━━━━━━━━━━━━━\u001b[0m\u001b[37m\u001b[0m \u001b[1m41s\u001b[0m 11ms/step - accuracy: 0.9981 - loss: 0.0067 - val_accuracy: 0.9872 - val_loss: 0.0504\n"
     ]
    },
    {
     "data": {
      "text/plain": [
       "<keras.src.callbacks.history.History at 0x7de79edb6080>"
      ]
     },
     "execution_count": 42,
     "metadata": {},
     "output_type": "execute_result"
    }
   ],
   "source": [
    "model.fit(x_train,y_cat_train,epochs=10,validation_data=(x_test,y_cat_test),callbacks=[early_stop])"
   ]
  },
  {
   "cell_type": "markdown",
   "id": "c4ba961a",
   "metadata": {
    "papermill": {
     "duration": 0.191439,
     "end_time": "2024-03-06T05:35:34.594203",
     "exception": false,
     "start_time": "2024-03-06T05:35:34.402764",
     "status": "completed"
    },
    "tags": []
   },
   "source": [
    "## Evaluation the Model"
   ]
  },
  {
   "cell_type": "code",
   "execution_count": 43,
   "id": "86b79c93",
   "metadata": {
    "execution": {
     "iopub.execute_input": "2024-03-06T05:35:34.978559Z",
     "iopub.status.busy": "2024-03-06T05:35:34.977467Z",
     "iopub.status.idle": "2024-03-06T05:35:34.984515Z",
     "shell.execute_reply": "2024-03-06T05:35:34.983493Z"
    },
    "papermill": {
     "duration": 0.200475,
     "end_time": "2024-03-06T05:35:34.986574",
     "exception": false,
     "start_time": "2024-03-06T05:35:34.786099",
     "status": "completed"
    },
    "tags": []
   },
   "outputs": [
    {
     "data": {
      "text/plain": [
       "['loss', 'compile_metrics']"
      ]
     },
     "execution_count": 43,
     "metadata": {},
     "output_type": "execute_result"
    }
   ],
   "source": [
    "model.metrics_names"
   ]
  },
  {
   "cell_type": "code",
   "execution_count": 44,
   "id": "60e9e96f",
   "metadata": {
    "execution": {
     "iopub.execute_input": "2024-03-06T05:35:35.369068Z",
     "iopub.status.busy": "2024-03-06T05:35:35.368351Z",
     "iopub.status.idle": "2024-03-06T05:35:35.376911Z",
     "shell.execute_reply": "2024-03-06T05:35:35.375889Z"
    },
    "papermill": {
     "duration": 0.202132,
     "end_time": "2024-03-06T05:35:35.379239",
     "exception": false,
     "start_time": "2024-03-06T05:35:35.177107",
     "status": "completed"
    },
    "tags": []
   },
   "outputs": [],
   "source": [
    "losses = pd.DataFrame(model.history.history)"
   ]
  },
  {
   "cell_type": "code",
   "execution_count": 45,
   "id": "c7dba5c3",
   "metadata": {
    "execution": {
     "iopub.execute_input": "2024-03-06T05:35:35.833636Z",
     "iopub.status.busy": "2024-03-06T05:35:35.832888Z",
     "iopub.status.idle": "2024-03-06T05:35:35.853862Z",
     "shell.execute_reply": "2024-03-06T05:35:35.852690Z"
    },
    "papermill": {
     "duration": 0.2859,
     "end_time": "2024-03-06T05:35:35.856211",
     "exception": false,
     "start_time": "2024-03-06T05:35:35.570311",
     "status": "completed"
    },
    "tags": []
   },
   "outputs": [
    {
     "data": {
      "text/html": [
       "<div>\n",
       "<style scoped>\n",
       "    .dataframe tbody tr th:only-of-type {\n",
       "        vertical-align: middle;\n",
       "    }\n",
       "\n",
       "    .dataframe tbody tr th {\n",
       "        vertical-align: top;\n",
       "    }\n",
       "\n",
       "    .dataframe thead th {\n",
       "        text-align: right;\n",
       "    }\n",
       "</style>\n",
       "<table border=\"1\" class=\"dataframe\">\n",
       "  <thead>\n",
       "    <tr style=\"text-align: right;\">\n",
       "      <th></th>\n",
       "      <th>accuracy</th>\n",
       "      <th>loss</th>\n",
       "      <th>val_accuracy</th>\n",
       "      <th>val_loss</th>\n",
       "    </tr>\n",
       "  </thead>\n",
       "  <tbody>\n",
       "    <tr>\n",
       "      <th>0</th>\n",
       "      <td>0.956833</td>\n",
       "      <td>0.143287</td>\n",
       "      <td>0.9799</td>\n",
       "      <td>0.059314</td>\n",
       "    </tr>\n",
       "    <tr>\n",
       "      <th>1</th>\n",
       "      <td>0.986467</td>\n",
       "      <td>0.045665</td>\n",
       "      <td>0.9852</td>\n",
       "      <td>0.043330</td>\n",
       "    </tr>\n",
       "    <tr>\n",
       "      <th>2</th>\n",
       "      <td>0.990600</td>\n",
       "      <td>0.029852</td>\n",
       "      <td>0.9866</td>\n",
       "      <td>0.039763</td>\n",
       "    </tr>\n",
       "    <tr>\n",
       "      <th>3</th>\n",
       "      <td>0.993700</td>\n",
       "      <td>0.019832</td>\n",
       "      <td>0.9893</td>\n",
       "      <td>0.033075</td>\n",
       "    </tr>\n",
       "    <tr>\n",
       "      <th>4</th>\n",
       "      <td>0.995350</td>\n",
       "      <td>0.014332</td>\n",
       "      <td>0.9894</td>\n",
       "      <td>0.030364</td>\n",
       "    </tr>\n",
       "  </tbody>\n",
       "</table>\n",
       "</div>"
      ],
      "text/plain": [
       "   accuracy      loss  val_accuracy  val_loss\n",
       "0  0.956833  0.143287        0.9799  0.059314\n",
       "1  0.986467  0.045665        0.9852  0.043330\n",
       "2  0.990600  0.029852        0.9866  0.039763\n",
       "3  0.993700  0.019832        0.9893  0.033075\n",
       "4  0.995350  0.014332        0.9894  0.030364"
      ]
     },
     "execution_count": 45,
     "metadata": {},
     "output_type": "execute_result"
    }
   ],
   "source": [
    "losses.head()"
   ]
  },
  {
   "cell_type": "code",
   "execution_count": 46,
   "id": "9527b28a",
   "metadata": {
    "execution": {
     "iopub.execute_input": "2024-03-06T05:35:36.249184Z",
     "iopub.status.busy": "2024-03-06T05:35:36.248750Z",
     "iopub.status.idle": "2024-03-06T05:35:36.546559Z",
     "shell.execute_reply": "2024-03-06T05:35:36.545429Z"
    },
    "papermill": {
     "duration": 0.49566,
     "end_time": "2024-03-06T05:35:36.548714",
     "exception": false,
     "start_time": "2024-03-06T05:35:36.053054",
     "status": "completed"
    },
    "tags": []
   },
   "outputs": [
    {
     "data": {
      "text/plain": [
       "<Axes: >"
      ]
     },
     "execution_count": 46,
     "metadata": {},
     "output_type": "execute_result"
    },
    {
     "data": {
      "image/png": "[encoded data removed]",
      "text/plain": [
       "<Figure size 640x480 with 1 Axes>"
      ]
     },
     "metadata": {},
     "output_type": "display_data"
    }
   ],
   "source": [
    "losses[['accuracy', 'val_accuracy']].plot()"
   ]
  },
  {
   "cell_type": "code",
   "execution_count": 47,
   "id": "402a8a9d",
   "metadata": {
    "execution": {
     "iopub.execute_input": "2024-03-06T05:35:36.945861Z",
     "iopub.status.busy": "2024-03-06T05:35:36.945418Z",
     "iopub.status.idle": "2024-03-06T05:35:37.193343Z",
     "shell.execute_reply": "2024-03-06T05:35:37.192221Z"
    },
    "papermill": {
     "duration": 0.4504,
     "end_time": "2024-03-06T05:35:37.195755",
     "exception": false,
     "start_time": "2024-03-06T05:35:36.745355",
     "status": "completed"
    },
    "tags": []
   },
   "outputs": [
    {
     "data": {
      "text/plain": [
       "<Axes: >"
      ]
     },
     "execution_count": 47,
     "metadata": {},
     "output_type": "execute_result"
    },
    {
     "data": {
      "image/png": "[encoded data removed]",
      "text/plain": [
       "<Figure size 640x480 with 1 Axes>"
      ]
     },
     "metadata": {},
     "output_type": "display_data"
    }
   ],
   "source": [
    "losses[['loss', 'val_loss']].plot()"
   ]
  },
  {
   "cell_type": "code",
   "execution_count": 48,
   "id": "a180f427",
   "metadata": {
    "execution": {
     "iopub.execute_input": "2024-03-06T05:35:37.588016Z",
     "iopub.status.busy": "2024-03-06T05:35:37.587042Z",
     "iopub.status.idle": "2024-03-06T05:35:38.931850Z",
     "shell.execute_reply": "2024-03-06T05:35:38.931004Z"
    },
    "papermill": {
     "duration": 1.542554,
     "end_time": "2024-03-06T05:35:38.934090",
     "exception": false,
     "start_time": "2024-03-06T05:35:37.391536",
     "status": "completed"
    },
    "tags": []
   },
   "outputs": [
    {
     "name": "stdout",
     "output_type": "stream",
     "text": [
      "['loss', 'compile_metrics']\n",
      "[0.05043400079011917, 0.9872000217437744]\n"
     ]
    }
   ],
   "source": [
    "print(model.metrics_names)\n",
    "print(model.evaluate(x_test,y_cat_test,verbose=0))"
   ]
  },
  {
   "cell_type": "code",
   "execution_count": 49,
   "id": "0e9647e8",
   "metadata": {
    "execution": {
     "iopub.execute_input": "2024-03-06T05:35:39.332525Z",
     "iopub.status.busy": "2024-03-06T05:35:39.332162Z",
     "iopub.status.idle": "2024-03-06T05:35:40.453393Z",
     "shell.execute_reply": "2024-03-06T05:35:40.452095Z"
    },
    "papermill": {
     "duration": 1.324004,
     "end_time": "2024-03-06T05:35:40.455984",
     "exception": false,
     "start_time": "2024-03-06T05:35:39.131980",
     "status": "completed"
    },
    "tags": []
   },
   "outputs": [],
   "source": [
    "from sklearn.metrics import classification_report, confusion_matrix"
   ]
  },
  {
   "cell_type": "code",
   "execution_count": 50,
   "id": "620df287",
   "metadata": {
    "execution": {
     "iopub.execute_input": "2024-03-06T05:35:40.909480Z",
     "iopub.status.busy": "2024-03-06T05:35:40.909014Z",
     "iopub.status.idle": "2024-03-06T05:35:42.464812Z",
     "shell.execute_reply": "2024-03-06T05:35:42.463307Z"
    },
    "papermill": {
     "duration": 1.816131,
     "end_time": "2024-03-06T05:35:42.467531",
     "exception": false,
     "start_time": "2024-03-06T05:35:40.651400",
     "status": "completed"
    },
    "tags": []
   },
   "outputs": [
    {
     "name": "stdout",
     "output_type": "stream",
     "text": [
      "\u001b[1m313/313\u001b[0m \u001b[32m━━━━━━━━━━━━━━━━━━━━\u001b[0m\u001b[37m\u001b[0m \u001b[1m1s\u001b[0m 4ms/step\n"
     ]
    }
   ],
   "source": [
    "predictions = np.argmax(model.predict(x_test), axis=1)"
   ]
  },
  {
   "cell_type": "code",
   "execution_count": 51,
   "id": "c50b8824",
   "metadata": {
    "execution": {
     "iopub.execute_input": "2024-03-06T05:35:42.869093Z",
     "iopub.status.busy": "2024-03-06T05:35:42.868233Z",
     "iopub.status.idle": "2024-03-06T05:35:42.874625Z",
     "shell.execute_reply": "2024-03-06T05:35:42.873596Z"
    },
    "papermill": {
     "duration": 0.205471,
     "end_time": "2024-03-06T05:35:42.876666",
     "exception": false,
     "start_time": "2024-03-06T05:35:42.671195",
     "status": "completed"
    },
    "tags": []
   },
   "outputs": [
    {
     "data": {
      "text/plain": [
       "(10000, 10)"
      ]
     },
     "execution_count": 51,
     "metadata": {},
     "output_type": "execute_result"
    }
   ],
   "source": [
    "y_cat_test.shape"
   ]
  },
  {
   "cell_type": "code",
   "execution_count": 52,
   "id": "adc719d4",
   "metadata": {
    "execution": {
     "iopub.execute_input": "2024-03-06T05:35:43.268863Z",
     "iopub.status.busy": "2024-03-06T05:35:43.268480Z",
     "iopub.status.idle": "2024-03-06T05:35:43.277015Z",
     "shell.execute_reply": "2024-03-06T05:35:43.275822Z"
    },
    "papermill": {
     "duration": 0.2065,
     "end_time": "2024-03-06T05:35:43.279300",
     "exception": false,
     "start_time": "2024-03-06T05:35:43.072800",
     "status": "completed"
    },
    "tags": []
   },
   "outputs": [
    {
     "data": {
      "text/plain": [
       "array([7, 2, 1, ..., 4, 5, 6], dtype=uint8)"
      ]
     },
     "execution_count": 52,
     "metadata": {},
     "output_type": "execute_result"
    }
   ],
   "source": [
    "y_test"
   ]
  },
  {
   "cell_type": "code",
   "execution_count": 53,
   "id": "23ee220d",
   "metadata": {
    "execution": {
     "iopub.execute_input": "2024-03-06T05:35:43.678102Z",
     "iopub.status.busy": "2024-03-06T05:35:43.677153Z",
     "iopub.status.idle": "2024-03-06T05:35:43.712180Z",
     "shell.execute_reply": "2024-03-06T05:35:43.711053Z"
    },
    "papermill": {
     "duration": 0.234028,
     "end_time": "2024-03-06T05:35:43.714339",
     "exception": false,
     "start_time": "2024-03-06T05:35:43.480311",
     "status": "completed"
    },
    "tags": []
   },
   "outputs": [
    {
     "name": "stdout",
     "output_type": "stream",
     "text": [
      "              precision    recall  f1-score   support\n",
      "\n",
      "           0       0.98      0.99      0.99       980\n",
      "           1       0.99      0.99      0.99      1135\n",
      "           2       0.99      0.99      0.99      1032\n",
      "           3       0.99      0.99      0.99      1010\n",
      "           4       0.99      0.99      0.99       982\n",
      "           5       0.98      0.99      0.98       892\n",
      "           6       0.99      0.99      0.99       958\n",
      "           7       0.98      0.99      0.99      1028\n",
      "           8       0.99      0.98      0.99       974\n",
      "           9       0.99      0.97      0.98      1009\n",
      "\n",
      "    accuracy                           0.99     10000\n",
      "   macro avg       0.99      0.99      0.99     10000\n",
      "weighted avg       0.99      0.99      0.99     10000\n",
      "\n"
     ]
    }
   ],
   "source": [
    "print(classification_report(y_test,predictions))"
   ]
  },
  {
   "cell_type": "markdown",
   "id": "b44c2454",
   "metadata": {
    "papermill": {
     "duration": 0.197653,
     "end_time": "2024-03-06T05:35:44.109314",
     "exception": false,
     "start_time": "2024-03-06T05:35:43.911661",
     "status": "completed"
    },
    "tags": []
   },
   "source": [
    "## Predicting a given Image"
   ]
  },
  {
   "cell_type": "code",
   "execution_count": 54,
   "id": "54bcfda3",
   "metadata": {
    "execution": {
     "iopub.execute_input": "2024-03-06T05:35:44.567764Z",
     "iopub.status.busy": "2024-03-06T05:35:44.567144Z",
     "iopub.status.idle": "2024-03-06T05:35:44.571032Z",
     "shell.execute_reply": "2024-03-06T05:35:44.570215Z"
    },
    "papermill": {
     "duration": 0.266467,
     "end_time": "2024-03-06T05:35:44.573016",
     "exception": false,
     "start_time": "2024-03-06T05:35:44.306549",
     "status": "completed"
    },
    "tags": []
   },
   "outputs": [],
   "source": [
    "my_number=x_test[8]"
   ]
  },
  {
   "cell_type": "code",
   "execution_count": 55,
   "id": "b2f4630e",
   "metadata": {
    "execution": {
     "iopub.execute_input": "2024-03-06T05:35:44.970106Z",
     "iopub.status.busy": "2024-03-06T05:35:44.969517Z",
     "iopub.status.idle": "2024-03-06T05:35:45.162446Z",
     "shell.execute_reply": "2024-03-06T05:35:45.161527Z"
    },
    "papermill": {
     "duration": 0.393588,
     "end_time": "2024-03-06T05:35:45.164530",
     "exception": false,
     "start_time": "2024-03-06T05:35:44.770942",
     "status": "completed"
    },
    "tags": []
   },
   "outputs": [
    {
     "data": {
      "text/plain": [
       "<matplotlib.image.AxesImage at 0x7de74e211d80>"
      ]
     },
     "execution_count": 55,
     "metadata": {},
     "output_type": "execute_result"
    },
    {
     "data": {
      "image/png": "[encoded data removed]",
      "text/plain": [
       "<Figure size 640x480 with 1 Axes>"
      ]
     },
     "metadata": {},
     "output_type": "display_data"
    }
   ],
   "source": [
    "plt.imshow(my_number.reshape(28,28))"
   ]
  },
  {
   "cell_type": "code",
   "execution_count": 56,
   "id": "4f6db939",
   "metadata": {
    "execution": {
     "iopub.execute_input": "2024-03-06T05:35:45.567845Z",
     "iopub.status.busy": "2024-03-06T05:35:45.567197Z",
     "iopub.status.idle": "2024-03-06T05:35:45.573474Z",
     "shell.execute_reply": "2024-03-06T05:35:45.572316Z"
    },
    "papermill": {
     "duration": 0.20892,
     "end_time": "2024-03-06T05:35:45.575627",
     "exception": false,
     "start_time": "2024-03-06T05:35:45.366707",
     "status": "completed"
    },
    "tags": []
   },
   "outputs": [
    {
     "data": {
      "text/plain": [
       "5"
      ]
     },
     "execution_count": 56,
     "metadata": {},
     "output_type": "execute_result"
    }
   ],
   "source": [
    "y_test[8]"
   ]
  },
  {
   "cell_type": "code",
   "execution_count": 57,
   "id": "83490326",
   "metadata": {
    "execution": {
     "iopub.execute_input": "2024-03-06T05:35:45.975446Z",
     "iopub.status.busy": "2024-03-06T05:35:45.975049Z",
     "iopub.status.idle": "2024-03-06T05:35:46.059189Z",
     "shell.execute_reply": "2024-03-06T05:35:46.058021Z"
    },
    "papermill": {
     "duration": 0.28468,
     "end_time": "2024-03-06T05:35:46.061435",
     "exception": false,
     "start_time": "2024-03-06T05:35:45.776755",
     "status": "completed"
    },
    "tags": []
   },
   "outputs": [
    {
     "name": "stdout",
     "output_type": "stream",
     "text": [
      "\u001b[1m1/1\u001b[0m \u001b[32m━━━━━━━━━━━━━━━━━━━━\u001b[0m\u001b[37m\u001b[0m \u001b[1m0s\u001b[0m 22ms/step\n"
     ]
    },
    {
     "data": {
      "text/plain": [
       "5"
      ]
     },
     "execution_count": 57,
     "metadata": {},
     "output_type": "execute_result"
    }
   ],
   "source": [
    "np.argmax(model.predict(my_number.reshape(1,28,28,1)))"
   ]
  },
  {
   "cell_type": "markdown",
   "id": "be5cc296",
   "metadata": {
    "papermill": {
     "duration": 0.19681,
     "end_time": "2024-03-06T05:35:46.460384",
     "exception": false,
     "start_time": "2024-03-06T05:35:46.263574",
     "status": "completed"
    },
    "tags": []
   },
   "source": [
    "## Good Job!"
   ]
  }
 ],
 "metadata": {
  "kaggle": {
   "accelerator": "none",
   "dataSources": [],
   "isGpuEnabled": false,
   "isInternetEnabled": true,
   "language": "python",
   "sourceType": "notebook"
  },
  "kernelspec": {
   "display_name": "Python 3 (ipykernel)",
   "language": "python",
   "name": "python3"
  },
  "language_info": {
   "codemirror_mode": {
    "name": "ipython",
    "version": 3
   },
   "file_extension": ".py",
   "mimetype": "text/x-python",
   "name": "python",
   "nbconvert_exporter": "python",
   "pygments_lexer": "ipython3",
   "version": "3.10.13"
  },
  "papermill": {
   "default_parameters": {},
   "duration": 210.341934,
   "end_time": "2024-03-06T05:35:49.251408",
   "environment_variables": {},
   "exception": null,
   "input_path": "__notebook__.ipynb",
   "output_path": "__notebook__.ipynb",
   "parameters": {},
   "start_time": "2024-03-06T05:32:18.909474",
   "version": "2.5.0"
  }
 },
 "nbformat": 4,
 "nbformat_minor": 5
}
